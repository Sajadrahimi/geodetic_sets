{
 "cells": [
  {
   "cell_type": "code",
   "execution_count": 7,
   "metadata": {},
   "outputs": [],
   "source": [
    "import sage.all\n",
    "from sage.combinat.combination import Combinations\n",
    "from sage.graphs.digraph import DiGraph"
   ]
  },
  {
   "cell_type": "code",
   "execution_count": 4,
   "metadata": {},
   "outputs": [],
   "source": [
    "def is_g_equals_k(g: DiGraph, goal: int) -> bool:\n",
    "    vertices = set(g.vertices())\n",
    "    solution = None\n",
    "    for k in range(2, goal + 1):\n",
    "        covering_set_candidates = Combinations(vertices, k)\n",
    "        for candidate in covering_set_candidates:\n",
    "            covered_set = set()\n",
    "            vertex_pairs = Combinations(candidate, 2).list()\n",
    "            for vertex_pair in vertex_pairs:\n",
    "\n",
    "                paths = [g.shortest_path(vertex_pair[0], vertex_pair[1])]\n",
    "                rev_paths = [g.shortest_path(vertex_pair[1], vertex_pair[0])]\n",
    "                \n",
    "                for path in rev_paths:\n",
    "                    if path:\n",
    "                        paths.append(list(path))\n",
    "\n",
    "                for path in paths:\n",
    "                    for vertex in path:\n",
    "                        covered_set.add(vertex)\n",
    "                if covered_set == vertices and k != goal:\n",
    "                    return False, None\n",
    "                elif covered_set == vertices:\n",
    "                    solution = candidate\n",
    "    if solution:\n",
    "        return True, solution\n",
    "    else:\n",
    "        return False, None"
   ]
  },
  {
   "cell_type": "code",
   "execution_count": 5,
   "metadata": {},
   "outputs": [],
   "source": [
    "N = 4\n",
    "M = N - 1\n",
    "target_gs = N - 1\n",
    "\n",
    "\n",
    "vertices = [i for i in range(1, N + 1)]\n",
    "base_edges = [(i, N) for i in range(1, N - 1)]\n",
    "base_edges.extend([(N, N-1)])\n",
    "g = DiGraph([vertices, base_edges])\n",
    "\n",
    "\n",
    "results = {}\n",
    "\n",
    "for M in range(N, ((N * (N-1)//2)) + 1):\n",
    "    edges = base_edges\n",
    "\n",
    "    while M > g.num_edges():\n",
    "        vertices = g.vertices()[:-1]\n",
    "        \n",
    "        out_degrees_without_S = g.out_degree()[:-1]\n",
    "        in_degrees_without_S = g.in_degree()[:-1]\n",
    "        \n",
    "        \n",
    "        source_candid = None\n",
    "        for c in range(1, N+1):\n",
    "            if g.degree(c) == N - 1:\n",
    "                continue\n",
    "            if source_candid is not None:\n",
    "                break\n",
    "            source_candid = c\n",
    "            \n",
    "        \n",
    "        sink_candid = None\n",
    "        for c in range(1, N + 1):\n",
    "            if ((source_candid, c, None) in g.edges()) or ((c, source_candid, None) in g.edges()) or (source_candid == c):\n",
    "                continue\n",
    "            if sink_candid is not None:\n",
    "                break\n",
    "            sink_candid = c\n",
    "        \n",
    "        \n",
    "        if g.degree([sink_candid])[0] < N-2:\n",
    "            g.add_edge(source_candid, sink_candid)\n",
    "        else:\n",
    "            g.add_edge(sink_candid, source_candid)\n",
    "    results[M] = g"
   ]
  }
 ],
 "metadata": {
  "kernelspec": {
   "display_name": "Python 3 (ipykernel)",
   "language": "python",
   "name": "python3"
  },
  "language_info": {
   "codemirror_mode": {
    "name": "ipython",
    "version": 3
   },
   "file_extension": ".py",
   "mimetype": "text/x-python",
   "name": "python",
   "nbconvert_exporter": "python",
   "pygments_lexer": "ipython3",
   "version": "3.10.6"
  },
  "orig_nbformat": 4
 },
 "nbformat": 4,
 "nbformat_minor": 2
}
