{
 "cells": [
  {
   "cell_type": "code",
   "execution_count": 7,
   "metadata": {},
   "outputs": [],
   "source": [
    "from typing import List\n",
    "\n",
    "import sage.all\n",
    "from sage.combinat.combination import Combinations\n",
    "from sage.graphs.digraph import DiGraph\n",
    "from sage.graphs.graph_generators import graphs\n",
    "from sage.graphs.digraph_generators import digraphs"
   ]
  },
  {
   "cell_type": "code",
   "execution_count": 5,
   "metadata": {},
   "outputs": [],
   "source": [
    "def get_digraphs(N: int, min_edges: int, max_edges: int, O: bool = False) -> DiGraph:\n",
    "    gen = graphs.nauty_geng(f'{N} -c')\n",
    "    return digraphs.nauty_directg(gen, f\"-e{min_edges}:{max_edges} {'-o' if O else ''}\")"
   ]
  },
  {
   "cell_type": "code",
   "execution_count": 2,
   "metadata": {},
   "outputs": [],
   "source": [
    "def get_orientations(g: DiGraph) -> List[DiGraph]:\n",
    "    edges = set([(e[0], e[1]) for e in g.edges()])\n",
    "\n",
    "    bis = set()\n",
    "    for e in edges:\n",
    "        if e[::-1] in edges and (e not in bis and e[::-1] not in bis):\n",
    "            bis.add((e[0], e[1]))\n",
    "\n",
    "    unis = edges - bis - set(map(lambda x: x[::-1], bis))\n",
    "\n",
    "\n",
    "    undirected_g = g.to_undirected()\n",
    "    orientations_of_undirected_g = undirected_g.orientations()\n",
    "\n",
    "    orientations = []\n",
    "\n",
    "    for orientation in orientations_of_undirected_g:\n",
    "        orientation_edges = set([(e[0], e[1]) for e in orientation.edges()])\n",
    "        if unis.issubset(orientation_edges):\n",
    "            orientations.append(orientation)\n",
    "    return orientations"
   ]
  },
  {
   "cell_type": "code",
   "execution_count": 3,
   "metadata": {},
   "outputs": [],
   "source": [
    "def is_g_equals_k(g: DiGraph, goal: int) -> bool:\n",
    "    vertices = set(g.vertices())\n",
    "    solution = None\n",
    "    for k in range(2, goal + 1):\n",
    "        covering_set_candidates = Combinations(vertices, k)\n",
    "        for candidate in covering_set_candidates:\n",
    "            covered_set = set()\n",
    "            vertex_pairs = Combinations(candidate, 2).list()\n",
    "            for vertex_pair in vertex_pairs:\n",
    "\n",
    "                paths = [g.shortest_path(vertex_pair[0], vertex_pair[1])]\n",
    "                rev_paths = [g.shortest_path(vertex_pair[1], vertex_pair[0])]\n",
    "                \n",
    "                for path in rev_paths:\n",
    "                    if path:\n",
    "                        paths.append(list(path))\n",
    "\n",
    "                for path in paths:\n",
    "                    for vertex in path:\n",
    "                        covered_set.add(vertex)\n",
    "                if covered_set == vertices and k != goal:\n",
    "                    return False, None\n",
    "                elif covered_set == vertices:\n",
    "                    solution = candidate\n",
    "    if solution:\n",
    "        return True, solution\n",
    "    else:\n",
    "        return False, None"
   ]
  },
  {
   "cell_type": "code",
   "execution_count": 10,
   "metadata": {},
   "outputs": [],
   "source": [
    "N = 4\n",
    "results = {}\n",
    "\n",
    "for target_gn in range(2, N + 1):\n",
    "    results[target_gn] = {}\n",
    "    \n",
    "    for M in range(N - 1, ((N * (N-1)//2)) + 1):\n",
    "        di_graphs = get_digraphs(N, M, M)\n",
    "        found = False\n",
    "        \n",
    "        for dig in di_graphs:\n",
    "            if found:\n",
    "                break\n",
    "            for g in get_orientations(dig):\n",
    "                if not len(g.edges()) == M:\n",
    "                    break\n",
    "                is_equal, gs = is_g_equals_k(g, target_gn)\n",
    "                if is_equal:\n",
    "                    results[target_gn][M] = g\n",
    "                    found = True\n",
    "                    break\n"
   ]
  },
  {
   "cell_type": "code",
   "execution_count": 11,
   "metadata": {},
   "outputs": [
    {
     "data": {
      "text/plain": [
       "{2: {3: Digraph on 4 vertices,\n",
       "  4: Digraph on 4 vertices,\n",
       "  5: Digraph on 4 vertices,\n",
       "  6: Digraph on 4 vertices},\n",
       " 3: {3: Digraph on 4 vertices,\n",
       "  4: Digraph on 4 vertices,\n",
       "  5: Digraph on 4 vertices,\n",
       "  6: Digraph on 4 vertices},\n",
       " 4: {3: Digraph on 4 vertices,\n",
       "  4: Digraph on 4 vertices,\n",
       "  5: Digraph on 4 vertices,\n",
       "  6: Digraph on 4 vertices}}"
      ]
     },
     "execution_count": 11,
     "metadata": {},
     "output_type": "execute_result"
    }
   ],
   "source": [
    "results"
   ]
  }
 ],
 "metadata": {
  "kernelspec": {
   "display_name": "Python 3 (ipykernel)",
   "language": "python",
   "name": "python3"
  },
  "language_info": {
   "codemirror_mode": {
    "name": "ipython",
    "version": 3
   },
   "file_extension": ".py",
   "mimetype": "text/x-python",
   "name": "python",
   "nbconvert_exporter": "python",
   "pygments_lexer": "ipython3",
   "version": "3.10.6"
  },
  "orig_nbformat": 4
 },
 "nbformat": 4,
 "nbformat_minor": 2
}
